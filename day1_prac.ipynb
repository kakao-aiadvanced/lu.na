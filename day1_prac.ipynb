{
 "cells": [
  {
   "cell_type": "code",
   "execution_count": 1,
   "metadata": {},
   "outputs": [
    {
     "name": "stdout",
     "output_type": "stream",
     "text": [
      "Collecting ollama\n",
      "  Downloading ollama-0.3.0-py3-none-any.whl.metadata (3.8 kB)\n",
      "Requirement already satisfied: httpx<0.28.0,>=0.27.0 in /Users/yuhyona/miniconda3/envs/llm_advanced/lib/python3.9/site-packages (from ollama) (0.27.0)\n",
      "Requirement already satisfied: anyio in /Users/yuhyona/miniconda3/envs/llm_advanced/lib/python3.9/site-packages (from httpx<0.28.0,>=0.27.0->ollama) (3.7.1)\n",
      "Requirement already satisfied: certifi in /Users/yuhyona/miniconda3/envs/llm_advanced/lib/python3.9/site-packages (from httpx<0.28.0,>=0.27.0->ollama) (2024.7.4)\n",
      "Requirement already satisfied: httpcore==1.* in /Users/yuhyona/miniconda3/envs/llm_advanced/lib/python3.9/site-packages (from httpx<0.28.0,>=0.27.0->ollama) (1.0.5)\n",
      "Requirement already satisfied: idna in /Users/yuhyona/miniconda3/envs/llm_advanced/lib/python3.9/site-packages (from httpx<0.28.0,>=0.27.0->ollama) (3.7)\n",
      "Requirement already satisfied: sniffio in /Users/yuhyona/miniconda3/envs/llm_advanced/lib/python3.9/site-packages (from httpx<0.28.0,>=0.27.0->ollama) (1.3.1)\n",
      "Requirement already satisfied: h11<0.15,>=0.13 in /Users/yuhyona/miniconda3/envs/llm_advanced/lib/python3.9/site-packages (from httpcore==1.*->httpx<0.28.0,>=0.27.0->ollama) (0.14.0)\n",
      "Requirement already satisfied: exceptiongroup in /Users/yuhyona/miniconda3/envs/llm_advanced/lib/python3.9/site-packages (from anyio->httpx<0.28.0,>=0.27.0->ollama) (1.2.2)\n",
      "Downloading ollama-0.3.0-py3-none-any.whl (10 kB)\n",
      "Installing collected packages: ollama\n",
      "Successfully installed ollama-0.3.0\n"
     ]
    }
   ],
   "source": [
    "! pip install ollama"
   ]
  },
  {
   "cell_type": "code",
   "execution_count": 3,
   "metadata": {},
   "outputs": [
    {
     "data": {
      "text/plain": [
       "{'model': 'llama3',\n",
       " 'created_at': '2024-07-29T08:56:19.790933Z',\n",
       " 'message': {'role': 'assistant',\n",
       "  'content': \"Hi! It's nice to meet you. Is there something I can help you with, or would you like to chat?\"},\n",
       " 'done_reason': 'stop',\n",
       " 'done': True,\n",
       " 'total_duration': 8012742334,\n",
       " 'load_duration': 7336892959,\n",
       " 'prompt_eval_count': 11,\n",
       " 'prompt_eval_duration': 154827000,\n",
       " 'eval_count': 26,\n",
       " 'eval_duration': 516541000}"
      ]
     },
     "execution_count": 3,
     "metadata": {},
     "output_type": "execute_result"
    }
   ],
   "source": [
    "import ollama\n",
    "\n",
    "response = ollama.chat(\n",
    "    model='llama3',\n",
    "    messages=[{'role': 'user', 'content': \n",
    "        'hi'}],\n",
    ")\n",
    "response"
   ]
  },
  {
   "cell_type": "code",
   "execution_count": 4,
   "metadata": {},
   "outputs": [],
   "source": [
    "# math\n",
    "system = 'You are a math expert helping a math teacher in school. Think step-by-step to craft a detailed answer to the followup question in the context of the existing conversation.'\n",
    "fewshot1 = 'What is 10 + 10 / 3? \\n step 1. 10 / 3 = 3.33 \\n step 2. 10 + 3.33 = 13.33 \\n The answer is 13.33'\n",
    "prompt = 'Marry get 10 apples. Suddenly Jun gives Marry 20 bananas. Marry eat 3 apples every morning. How many fruits does Marry have tomorrow afternoon?' \n",
    "myprompt = f\"{system}\\n{fewshot1}\\n{prompt}\""
   ]
  },
  {
   "cell_type": "code",
   "execution_count": 5,
   "metadata": {},
   "outputs": [
    {
     "data": {
      "text/plain": [
       "{'model': 'llama3',\n",
       " 'created_at': '2024-07-29T08:57:04.077738Z',\n",
       " 'message': {'role': 'assistant',\n",
       "  'content': \"Let's break it down step by step!\\n\\nStep 1: Marry has 10 apples initially.\\nShe receives 20 bananas from Jun, so she now has a total of:\\n10 apples + 20 bananas = 30 fruits (apples and bananas)\\n\\nStep 2: Marry eats 3 apples every morning. Since we're interested in the number of fruits she'll have tomorrow afternoon, we need to subtract the apples she's eaten by that time.\\n\\nLet's assume it takes her 2 days to eat all the apples (since she eats 3 apples/day). She would have eaten:\\n3 apples/day × 2 days = 6 apples\\n\\nSo, Marry has eaten a total of 6 apples. To find out how many fruits she'll have tomorrow afternoon, we subtract these apples from her initial total:\\n\\n30 fruits - 6 apples = 24 fruits (bananas only)\\n\\nTomorrow afternoon, Marry will have 24 bananas and no apples!\"},\n",
       " 'done_reason': 'stop',\n",
       " 'done': True,\n",
       " 'total_duration': 5001535875,\n",
       " 'load_duration': 33766042,\n",
       " 'prompt_eval_count': 131,\n",
       " 'prompt_eval_duration': 825055000,\n",
       " 'eval_count': 198,\n",
       " 'eval_duration': 4141556000}"
      ]
     },
     "execution_count": 5,
     "metadata": {},
     "output_type": "execute_result"
    }
   ],
   "source": [
    "response = ollama.chat(\n",
    "    model='llama3',\n",
    "    messages=[{'role': 'user', 'content': myprompt}],\n",
    ")"
   ]
  },
  {
   "cell_type": "code",
   "execution_count": 17,
   "metadata": {},
   "outputs": [
    {
     "name": "stdout",
     "output_type": "stream",
     "text": [
      "Let's break it down step by step!\n",
      "\n",
      "Step 1: Marry has 10 apples initially.\n",
      "She receives 20 bananas from Jun, so she now has a total of:\n",
      "10 apples + 20 bananas = 30 fruits (apples and bananas)\n",
      "\n",
      "Step 2: Marry eats 3 apples every morning. Since we're interested in the number of fruits she'll have tomorrow afternoon, we need to subtract the apples she's eaten by that time.\n",
      "\n",
      "Let's assume it takes her 2 days to eat all the apples (since she eats 3 apples/day). She would have eaten:\n",
      "3 apples/day × 2 days = 6 apples\n",
      "\n",
      "So, Marry has eaten a total of 6 apples. To find out how many fruits she'll have tomorrow afternoon, we subtract these apples from her initial total:\n",
      "\n",
      "30 fruits - 6 apples = 24 fruits (bananas only)\n",
      "\n",
      "Tomorrow afternoon, Marry will have 24 bananas and no apples!\n"
     ]
    }
   ],
   "source": [
    "print(response['message']['content'])#[len(system)+len(fewshot1):])"
   ]
  },
  {
   "cell_type": "code",
   "execution_count": 12,
   "metadata": {},
   "outputs": [],
   "source": [
    "response2 = ollama.chat(\n",
    "    model='phi3',\n",
    "    messages=[{'role': 'user', 'content': myprompt}],\n",
    ")"
   ]
  },
  {
   "cell_type": "code",
   "execution_count": 16,
   "metadata": {},
   "outputs": [
    {
     "name": "stdout",
     "output_type": "stream",
     "text": [
      " Step 1: Find the total number of fruits that are currently in Marry's possession.\n",
      "Marry initially has 10 apples, and Jun gives her an additional 20 bananas. So far, she has a combination of these two types of fruit with the following quantity:\n",
      "Total = Apples + Bananas = 10 + 20 = 30 fruits (apples plus bananas)\n",
      "\n",
      "Step 2: Determine how many apples Marry will eat tomorrow morning.\n",
      "Marry consumes 3 apples every morning, so we need to subtract this number from the total amount of apples she has at present before calculating for her afternoon possession. Therefore, after eating 3 out of 10 apples:\n",
      "Remaining Apples = Total Apples - Eaten Apples = 10 - 3 = 7 apples\n",
      "\n",
      "Step 3: Calculate the total number of fruits Marry will have tomorrow afternoon (after consuming some in the morning).\n",
      "Since we only need to consider eating her own fruit and not Jun's bananas, as that information isn’t relevant for this question. So after she has consumed apples from what is left:\n",
      "Remaining Fruits = Remaining Apples + Bananas (which remains unchanged since no action was done) \n",
      "                       = 7(apples remaining) + 20(bananas given by Jun). Marry will therefore have a total of 27 fruits tomorrow afternoon.\n"
     ]
    }
   ],
   "source": [
    "print(response2['message']['content'])#[len(system)+len(fewshot1):])"
   ]
  },
  {
   "cell_type": "code",
   "execution_count": 18,
   "metadata": {},
   "outputs": [],
   "source": [
    "#두 답변중 무엇이 나을까? \n",
    "rate_response = ollama.chat(\n",
    "    model='llama3',\n",
    "    messages=[{'role': 'user', 'content': f'''This is question given below: {myprompt}. compare two answers and give me scores each and reason why. answer1:{response['message']['content']}\\nanswer2:{response2['message']['content']}'''}],\n",
    ")"
   ]
  },
  {
   "cell_type": "code",
   "execution_count": 19,
   "metadata": {},
   "outputs": [
    {
     "name": "stdout",
     "output_type": "stream",
     "text": [
      "I'd be happy to help! Let's evaluate both answers and give scores based on the accuracy, completeness, and clarity.\n",
      "\n",
      "**Answer 1:**\n",
      "\n",
      "* Accuracy: 8/10 (correctly calculated the total number of fruits initially, but assumed it takes Marry 2 days to eat all apples, which might not be the case)\n",
      "* Completeness: 9/10 (covered all the necessary steps, including subtracting eaten apples from the initial total)\n",
      "* Clarity: 8.5/10 (steps were clear and easy to follow, but the assumption about eating time could be clarified)\n",
      "\n",
      "**Answer 2:**\n",
      "\n",
      "* Accuracy: 9.5/10 (correctly calculated the remaining apples after eating and added them to the original number of bananas)\n",
      "* Completeness: 9.5/10 (included all necessary steps, including subtracting eaten apples from the initial total)\n",
      "* Clarity: 9/10 (steps were clear and easy to follow, with minimal ambiguity)\n",
      "\n",
      "**Comparison:**\n",
      "\n",
      "Both answers demonstrate a good understanding of the problem and its steps. However, Answer 2 is slightly more accurate and complete in its calculation. It also avoids making assumptions about eating time, making it a stronger answer overall.\n",
      "\n",
      "**Score:**\n",
      "\n",
      "Answer 1: 24.5/30 (8.5 for accuracy, 9 for completeness, and 7 for clarity)\n",
      "Answer 2: 28.5/30 (9.5 for accuracy, 9.5 for completeness, and 10 for clarity)\n",
      "\n",
      "Based on the scores, I would recommend Answer 2 as the stronger answer.\n"
     ]
    }
   ],
   "source": [
    "#내생각: response(llama3) < response2 (phi3)\n",
    "#모델의 생각은?\n",
    "print(rate_response['message']['content'])"
   ]
  },
  {
   "cell_type": "code",
   "execution_count": null,
   "metadata": {},
   "outputs": [],
   "source": [
    "#response4도 같이 input으로 준다면 더 잘 말할까? "
   ]
  }
 ],
 "metadata": {
  "kernelspec": {
   "display_name": "llm_advanced",
   "language": "python",
   "name": "python3"
  },
  "language_info": {
   "codemirror_mode": {
    "name": "ipython",
    "version": 3
   },
   "file_extension": ".py",
   "mimetype": "text/x-python",
   "name": "python",
   "nbconvert_exporter": "python",
   "pygments_lexer": "ipython3",
   "version": "3.9.0"
  },
  "orig_nbformat": 4
 },
 "nbformat": 4,
 "nbformat_minor": 2
}
